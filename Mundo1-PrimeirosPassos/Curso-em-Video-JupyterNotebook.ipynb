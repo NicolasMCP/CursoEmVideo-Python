{
 "cells": [
  {
   "cell_type": "markdown",
   "id": "7cde9bc2",
   "metadata": {},
   "source": [
    "# Exemplo de código"
   ]
  },
  {
   "cell_type": "code",
   "execution_count": 1,
   "id": "1c10e705",
   "metadata": {},
   "outputs": [
    {
     "name": "stdout",
     "output_type": "stream",
     "text": [
      "Olá Mundo!\n",
      "beleza?\n"
     ]
    }
   ],
   "source": [
    "print(\"Olá Mundo!\")\n",
    "print(\"beleza?\")"
   ]
  },
  {
   "cell_type": "markdown",
   "id": "e9aa3a41",
   "metadata": {},
   "source": [
    "# CURSO EM VÍDEO"
   ]
  },
  {
   "cell_type": "markdown",
   "id": "9b3cd5a6",
   "metadata": {},
   "source": [
    "## Mundo 1"
   ]
  },
  {
   "cell_type": "markdown",
   "id": "c987ef3a",
   "metadata": {},
   "source": [
    "### Primeiros passos"
   ]
  },
  {
   "cell_type": "code",
   "execution_count": 6,
   "id": "1cac0591",
   "metadata": {},
   "outputs": [
    {
     "name": "stdout",
     "output_type": "stream",
     "text": [
      "Olá Mundo.\n",
      "7\n"
     ]
    }
   ],
   "source": [
    "print(\"Olá Mundo.\")\n",
    "print(2+5)"
   ]
  },
  {
   "cell_type": "code",
   "execution_count": 7,
   "id": "10e38e6a",
   "metadata": {},
   "outputs": [
    {
     "name": "stdout",
     "output_type": "stream",
     "text": [
      "The Zen of Python, by Tim Peters\n",
      "\n",
      "Beautiful is better than ugly.\n",
      "Explicit is better than implicit.\n",
      "Simple is better than complex.\n",
      "Complex is better than complicated.\n",
      "Flat is better than nested.\n",
      "Sparse is better than dense.\n",
      "Readability counts.\n",
      "Special cases aren't special enough to break the rules.\n",
      "Although practicality beats purity.\n",
      "Errors should never pass silently.\n",
      "Unless explicitly silenced.\n",
      "In the face of ambiguity, refuse the temptation to guess.\n",
      "There should be one-- and preferably only one --obvious way to do it.\n",
      "Although that way may not be obvious at first unless you're Dutch.\n",
      "Now is better than never.\n",
      "Although never is often better than *right* now.\n",
      "If the implementation is hard to explain, it's a bad idea.\n",
      "If the implementation is easy to explain, it may be a good idea.\n",
      "Namespaces are one honking great idea -- let's do more of those!\n"
     ]
    }
   ],
   "source": [
    "import this"
   ]
  },
  {
   "cell_type": "code",
   "execution_count": 8,
   "id": "8a710558",
   "metadata": {},
   "outputs": [
    {
     "name": "stdout",
     "output_type": "stream",
     "text": [
      "Estou aprendendo Python!\n"
     ]
    }
   ],
   "source": [
    "print('Estou aprendendo Python!')"
   ]
  },
  {
   "cell_type": "code",
   "execution_count": 21,
   "id": "b4b894d7",
   "metadata": {},
   "outputs": [
    {
     "name": "stdout",
     "output_type": "stream",
     "text": [
      "Nome: Fulano \n",
      "Idade: 35 \n",
      "Peso: 75.8\n"
     ]
    }
   ],
   "source": [
    "nome='Fulano'\n",
    "idade=35\n",
    "peso=75.8\n",
    "print('Nome:' , nome, '\\nIdade:', idade, '\\nPeso:', peso)"
   ]
  },
  {
   "cell_type": "code",
   "execution_count": 23,
   "id": "0ba0630d",
   "metadata": {},
   "outputs": [
    {
     "name": "stdout",
     "output_type": "stream",
     "text": [
      "Qual o seu nome Creuza\n",
      "Digite sua idade 88\n",
      "Digite o seu peso 149.75\n",
      "\n",
      "Nome: Creuza \n",
      "Idade: 88 \n",
      "Peso: 149.75\n"
     ]
    }
   ],
   "source": [
    "nome=input('Qual o seu nome ')\n",
    "idade=input('Digite sua idade ')\n",
    "peso=input('Digite o seu peso ')\n",
    "print('\\nNome:' , nome, '\\nIdade:', idade, '\\nPeso:', peso)"
   ]
  },
  {
   "cell_type": "code",
   "execution_count": null,
   "id": "22702ea6",
   "metadata": {},
   "outputs": [],
   "source": []
  }
 ],
 "metadata": {
  "kernelspec": {
   "display_name": "Python 3",
   "language": "python",
   "name": "python3"
  },
  "language_info": {
   "codemirror_mode": {
    "name": "ipython",
    "version": 3
   },
   "file_extension": ".py",
   "mimetype": "text/x-python",
   "name": "python",
   "nbconvert_exporter": "python",
   "pygments_lexer": "ipython3",
   "version": "3.8.8"
  }
 },
 "nbformat": 4,
 "nbformat_minor": 5
}
