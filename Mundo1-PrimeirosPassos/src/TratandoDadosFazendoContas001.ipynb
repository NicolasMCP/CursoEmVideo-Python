{
 "cells": [
  {
   "cell_type": "markdown",
   "id": "a6b2c8ec",
   "metadata": {},
   "source": [
    "# Tratando Dados e Fazendo Contas"
   ]
  },
  {
   "cell_type": "markdown",
   "id": "726714cc",
   "metadata": {},
   "source": [
    "## Aula 6"
   ]
  },
  {
   "cell_type": "code",
   "execution_count": 5,
   "id": "7566c48e",
   "metadata": {},
   "outputs": [
    {
     "name": "stdout",
     "output_type": "stream",
     "text": [
      "Digite um número: 8\n",
      "\n",
      "Você digitou: 8\n",
      "\n",
      "O tipo de \"x\" é <class 'str'>\n",
      "O tipo de \"y\" é <class 'int'>\n",
      "\n",
      "x * 10 = 8888888888\n",
      "y * 10 = 80\n"
     ]
    }
   ],
   "source": [
    "x = input('Digite um número: ')\n",
    "print(f'\\nVocê digitou: {x}')\n",
    "print(f'\\nO tipo de \"x\" é {type(x)}')\n",
    "y = int(x)\n",
    "print(f'O tipo de \"y\" é {type(y)}')\n",
    "print(f'\\nx * 10 = {(x * 10)}')\n",
    "print(f'y * 10 = {(y * 10)}')"
   ]
  },
  {
   "cell_type": "code",
   "execution_count": null,
   "id": "b1a0d003",
   "metadata": {},
   "outputs": [],
   "source": []
  }
 ],
 "metadata": {
  "kernelspec": {
   "display_name": "Python 3",
   "language": "python",
   "name": "python3"
  },
  "language_info": {
   "codemirror_mode": {
    "name": "ipython",
    "version": 3
   },
   "file_extension": ".py",
   "mimetype": "text/x-python",
   "name": "python",
   "nbconvert_exporter": "python",
   "pygments_lexer": "ipython3",
   "version": "3.8.8"
  }
 },
 "nbformat": 4,
 "nbformat_minor": 5
}
