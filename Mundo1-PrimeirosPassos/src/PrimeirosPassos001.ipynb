{
 "cells": [
  {
   "cell_type": "markdown",
   "id": "7625e318",
   "metadata": {},
   "source": [
    "# Primeiros Comandos em Python"
   ]
  },
  {
   "cell_type": "markdown",
   "id": "45e2e57c",
   "metadata": {},
   "source": [
    "## Desafio 1 (exercício 1)"
   ]
  },
  {
   "cell_type": "code",
   "execution_count": 1,
   "id": "a5ce39d6",
   "metadata": {},
   "outputs": [
    {
     "name": "stdout",
     "output_type": "stream",
     "text": [
      "Qual é o seu nome? Guanabara\n",
      "Olá Guanabara! Prazer em te conhecer!\n"
     ]
    }
   ],
   "source": [
    "nome = input('Qual é o seu nome? ')\n",
    "print('Olá ' + nome + '! Prazer em te conhecer!')"
   ]
  },
  {
   "cell_type": "markdown",
   "id": "250a9d42",
   "metadata": {},
   "source": [
    "## Desafio 2 (exercício 2)"
   ]
  },
  {
   "cell_type": "code",
   "execution_count": 2,
   "id": "ddb6d9df",
   "metadata": {},
   "outputs": [
    {
     "name": "stdout",
     "output_type": "stream",
     "text": [
      "Dia = 17\n",
      "Mes = Mar\n",
      "Ano = 1978\n",
      "Você nasceu no dia 17 de Mar de 1978. Correto?\n"
     ]
    }
   ],
   "source": [
    "dia = input('Dia = ')\n",
    "mes = input('Mes = ')\n",
    "ano = input('Ano = ')\n",
    "print('Você nasceu no dia ' + dia + ' de ' + mes + ' de ' + ano + '. Correto?')"
   ]
  },
  {
   "cell_type": "markdown",
   "id": "49349f1b",
   "metadata": {},
   "source": [
    "## Desafio 3 (exercício 3)"
   ]
  },
  {
   "cell_type": "code",
   "execution_count": 1,
   "id": "4a604fa3",
   "metadata": {},
   "outputs": [
    {
     "name": "stdout",
     "output_type": "stream",
     "text": [
      "Primeiro número 6\n",
      "Segundo número 3\n",
      "A soma é 9\n"
     ]
    }
   ],
   "source": [
    "a = int(input('Primeiro número '))\n",
    "b = int(input('Segundo número '))\n",
    "soma = a + b\n",
    "print('A soma é', soma)"
   ]
  },
  {
   "cell_type": "markdown",
   "id": "8a2d1f96",
   "metadata": {},
   "source": [
    "## Desafio 3 (extra)"
   ]
  },
  {
   "cell_type": "code",
   "execution_count": 1,
   "id": "22780421",
   "metadata": {},
   "outputs": [
    {
     "name": "stdout",
     "output_type": "stream",
     "text": [
      "Primeiro número 6\n",
      "Segundo número 3\n",
      "A soma de 6 e 3 é 9\n"
     ]
    }
   ],
   "source": [
    "a = int(input('Primeiro número '))\n",
    "b = int(input('Segundo número '))\n",
    "soma = a + b\n",
    "print(f'A soma de {a} e {b} é {soma}')"
   ]
  },
  {
   "cell_type": "markdown",
   "id": "2b2c026b",
   "metadata": {},
   "source": [
    "### Após Aula 5, exercício 2"
   ]
  },
  {
   "cell_type": "code",
   "execution_count": 9,
   "id": "0c890e20",
   "metadata": {},
   "outputs": [
    {
     "name": "stdout",
     "output_type": "stream",
     "text": [
      "Digite seu nome: Guanabara\n",
      "É um prazer te conhecer, Guanabara!\n",
      "É um prazer te conhecer, Guanabara!\n",
      "É um prazer te conhecer, Guanabara!\n"
     ]
    }
   ],
   "source": [
    "nome = input('Digite seu nome: ')\n",
    "print('É um prazer te conhecer, ' + nome + '!')\n",
    "print('É um prazer te conhecer, {}!'.format(nome))\n",
    "\n",
    "# este último é o meu modo preferido\n",
    "print(f'É um prazer te conhecer, {nome}!')"
   ]
  }
 ],
 "metadata": {
  "kernelspec": {
   "display_name": "Python 3",
   "language": "python",
   "name": "python3"
  },
  "language_info": {
   "codemirror_mode": {
    "name": "ipython",
    "version": 3
   },
   "file_extension": ".py",
   "mimetype": "text/x-python",
   "name": "python",
   "nbconvert_exporter": "python",
   "pygments_lexer": "ipython3",
   "version": "3.8.8"
  }
 },
 "nbformat": 4,
 "nbformat_minor": 5
}
